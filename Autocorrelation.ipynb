{
  "nbformat": 4,
  "nbformat_minor": 0,
  "metadata": {
    "colab": {
      "provenance": [],
      "authorship_tag": "ABX9TyOaMDxXzm3TGTUnMFp/lm2Q",
      "include_colab_link": true
    },
    "kernelspec": {
      "name": "python3",
      "display_name": "Python 3"
    },
    "language_info": {
      "name": "python"
    }
  },
  "cells": [
    {
      "cell_type": "markdown",
      "metadata": {
        "id": "view-in-github",
        "colab_type": "text"
      },
      "source": [
        "<a href=\"https://colab.research.google.com/github/eteh1/Evolution-of-point-bars-along-the-Niger-River-in-the-Niger-Delta-Nigeria-using-machine-learning/blob/main/Autocorrelation.ipynb\" target=\"_parent\"><img src=\"https://colab.research.google.com/assets/colab-badge.svg\" alt=\"Open In Colab\"/></a>"
      ]
    },
    {
      "cell_type": "code",
      "execution_count": null,
      "metadata": {
        "outputId": "bc55b1df-5123-4ab0-83a3-b01312de1652",
        "colab": {
          "base_uri": "https://localhost:8080/"
        },
        "id": "xr8gXkC6HFzw"
      },
      "outputs": [
        {
          "output_type": "stream",
          "name": "stdout",
          "text": [
            "The spatial autocorrelation between point bar and rainfall is 0.9921\n"
          ]
        }
      ],
      "source": [
        "import pandas as pd\n",
        "\n",
        "# Create a pandas dataframe\n",
        "df = pd.DataFrame({\n",
        "'Point bar (km2)': [227.95, 734.43, 775.08, 780.7, 616.2, 622.15],\n",
        "'Rainfall': [1008.91, 1238.766, 1270.282, 1265.353, 1215.448, 1210.41]})\n",
        "\n",
        "# Calculate mean center\n",
        "mean_center_pointbar = df['Point bar (km2)'].mean()\n",
        "mean_center_rainfall = df['Rainfall'].mean()\n",
        "\n",
        "# Subtract mean center from each data point\n",
        "df['Point bar (km2)_centered'] = df['Point bar (km2)'] - mean_center_pointbar\n",
        "df['Rainfall_centered'] = df['Rainfall'] - mean_center_rainfall\n",
        "\n",
        "# Calculate product terms\n",
        "product_terms = df['Point bar (km2)_centered'] * df['Rainfall_centered']\n",
        "\n",
        "# Calculate total product terms\n",
        "total_product_terms = product_terms.sum()\n",
        "\n",
        "# Calculate squared deviations from the mean\n",
        "squared_dev_pointbar = ((df['Point bar (km2)'] - mean_center_pointbar)**2).sum()\n",
        "squared_dev_rainfall = ((df['Rainfall'] - mean_center_rainfall)**2).sum()\n",
        "\n",
        "# Calculate overall spatial autocorrelation\n",
        "denominator = (squared_dev_pointbar * squared_dev_rainfall)**0.5\n",
        "\n",
        "if denominator != 0:\n",
        "  spatial_autocorrelation = total_product_terms / denominator\n",
        "else:\n",
        "  spatial_autocorrelation = 0\n",
        "\n",
        "print(f\"The spatial autocorrelation between point bar and rainfall is {spatial_autocorrelation:.4f}\")\n"
      ]
    }
  ]
}